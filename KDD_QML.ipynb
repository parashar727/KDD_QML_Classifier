{
 "cells": [
  {
   "cell_type": "code",
   "execution_count": 1,
   "id": "e0297f81-b5fc-41c6-a3de-0a1c647e577a",
   "metadata": {},
   "outputs": [],
   "source": [
    "import pandas as pd\n",
    "from sklearn.preprocessing import MinMaxScaler, StandardScaler\n",
    "from sklearn.model_selection import train_test_split\n",
    "from sklearn.decomposition import PCA\n",
    "\n",
    "df = pd.read_csv(\"kddcup.data_10_percent_corrected\", header=None)\n",
    "\n",
    "df.columns = [ \"duration\",\"protocol_type\",\"service\",\"flag\",\"src_bytes\",\n",
    "    \"dst_bytes\",\"land\",\"wrong_fragment\",\"urgent\",\"hot\",\"num_failed_logins\",\n",
    "    \"logged_in\",\"num_compromised\",\"root_shell\",\"su_attempted\",\"num_root\",\n",
    "    \"num_file_creations\",\"num_shells\",\"num_access_files\",\"num_outbound_cmds\",\n",
    "    \"is_host_login\",\"is_guest_login\",\"count\",\"srv_count\",\"serror_rate\",\n",
    "    \"srv_serror_rate\",\"rerror_rate\",\"srv_rerror_rate\",\"same_srv_rate\",\n",
    "    \"diff_srv_rate\",\"srv_diff_host_rate\",\"dst_host_count\",\"dst_host_srv_count\",\n",
    "    \"dst_host_same_srv_rate\",\"dst_host_diff_srv_rate\",\"dst_host_same_src_port_rate\",\n",
    "    \"dst_host_srv_diff_host_rate\",\"dst_host_serror_rate\",\"dst_host_srv_serror_rate\",\n",
    "    \"dst_host_rerror_rate\",\"dst_host_srv_rerror_rate\",\"label\" ]\n",
    "\n",
    "df['label'] = df['label'].apply(lambda x: 0 if x == 'normal.' else 1)\n",
    "\n",
    "df = pd.get_dummies(df, columns=['protocol_type', 'service', 'flag'])\n",
    "\n",
    "X = df.drop('label', axis=1)\n",
    "Y = df['label']\n",
    "\n",
    "scaler = StandardScaler()\n",
    "X_scaled = scaler.fit_transform(X)\n",
    "\n",
    "num_components = 6 \n",
    "pca = PCA(n_components=num_components)\n",
    "X_pca = pca.fit_transform(X_scaled)\n",
    "\n",
    "X_train, X_test, Y_train, Y_test = train_test_split(X_pca, Y, test_size=0.2, random_state=42)\n",
    "\n"
   ]
  },
  {
   "cell_type": "code",
   "execution_count": 2,
   "id": "eebbb266-cecb-4596-8ab2-a972b3baa7e9",
   "metadata": {},
   "outputs": [],
   "source": [
    "import pennylane as qml\n",
    "from pennylane import numpy as np\n",
    "\n",
    "num_qubits = num_components\n",
    "\n",
    "dev = qml.device(\"default.qubit\", wires=num_qubits)\n",
    "\n",
    "#circuit1\n",
    "\"\"\"\n",
    "def circuit(x, weights):\n",
    "    \n",
    "    for i in range(num_qubits):\n",
    "        qml.RY(x[i], wires=i)\n",
    "\n",
    "  \n",
    "    for i in range(num_qubits):\n",
    "        qml.Rot(*weights[i], wires=i)\n",
    "\n",
    "        \n",
    "    for i in range(num_qubits - 1):\n",
    "        qml.CNOT(wires=[i, i + 1])\n",
    "\n",
    "    return qml.expval(qml.PauliZ(0))\n",
    "\"\"\"\n",
    "\n",
    "#circuit2\n",
    "def circuit(x, weights):\n",
    "    \n",
    "    for i in range(num_qubits):\n",
    "        qml.RY(x[i], wires=i)\n",
    "\n",
    "    num_pqc_layers = weights.shape[0]\n",
    "\n",
    "  \n",
    "    for k in range(num_pqc_layers):\n",
    "        for i in range(num_qubits):\n",
    "            qml.Rot(*weights[k, i], wires=i)\n",
    "\n",
    "        for i in range(num_qubits - 1):\n",
    "            qml.CNOT(wires=[i, i + 1])\n",
    "\n",
    "        qml.CNOT(wires=[num_qubits - 1, 0])\n",
    "\n",
    "    return qml.expval(qml.PauliZ(0))"
   ]
  },
  {
   "cell_type": "code",
   "execution_count": 3,
   "id": "73cce609-9cd5-4792-aa7b-2245a1b387b5",
   "metadata": {},
   "outputs": [],
   "source": [
    "new_num_pqc_layers =  3\n",
    "#weights_shape = (num_qubits, 3)\n",
    "weights_shape = (new_num_pqc_layers, num_qubits, 3)\n",
    "weights = np.random.uniform(0, np.pi, weights_shape, requires_grad=True)\n",
    "\n",
    "qnode = qml.QNode(circuit, dev, interface=\"autograd\")"
   ]
  },
  {
   "cell_type": "code",
   "execution_count": 4,
   "id": "d74d6888-10c5-4a2d-852f-795d7f607b60",
   "metadata": {},
   "outputs": [],
   "source": [
    "def cost(weights, X, Y):\n",
    "    loss = 0\n",
    "    for i in range(len(X)):\n",
    "        pred = qnode(X[i], weights)\n",
    "        loss += (pred - Y[i])**2\n",
    "    return loss / len(X)\n"
   ]
  },
  {
   "cell_type": "code",
   "execution_count": 5,
   "id": "0b2ad3da-d050-4fca-847a-d569111fd331",
   "metadata": {},
   "outputs": [
    {
     "name": "stdout",
     "output_type": "stream",
     "text": [
      "Step 1: Cost = 0.9085082923468486\n",
      "Step 2: Cost = 0.7631168325190587\n",
      "Step 3: Cost = 0.620811789250216\n",
      "Step 4: Cost = 0.5143364688325257\n",
      "Step 5: Cost = 0.45265059265175417\n",
      "Step 6: Cost = 0.4177081625616152\n",
      "Step 7: Cost = 0.39579471080601186\n",
      "Step 8: Cost = 0.38054975005441866\n",
      "Step 9: Cost = 0.3690807722559656\n",
      "Step 10: Cost = 0.35995566919465677\n",
      "Step 11: Cost = 0.3523955109752723\n",
      "Step 12: Cost = 0.34594025166919895\n",
      "Step 13: Cost = 0.34029878874087915\n",
      "Step 14: Cost = 0.335275841269999\n",
      "Step 15: Cost = 0.3307334882556492\n"
     ]
    }
   ],
   "source": [
    "from pennylane.optimize import NesterovMomentumOptimizer \n",
    "\n",
    "X_train_small = np.array(X_train[:500])  \n",
    "Y_train_small = 2 * np.array(Y_train[:500]) - 1  \n",
    "\n",
    "#opt = NesterovMomentumOptimizer(0.5)\n",
    "opt = qml.GradientDescentOptimizer(stepsize=0.5)\n",
    "steps = 15\n",
    "\n",
    "for i in range(steps):\n",
    "    weights = opt.step(lambda w: cost(w, X_train_small, Y_train_small), weights)\n",
    "    print(f\"Step {i + 1}: Cost = {cost(weights, X_train_small, Y_train_small)}\")\n",
    "\n"
   ]
  },
  {
   "cell_type": "code",
   "execution_count": 6,
   "id": "9a5d3848-05c5-4c2c-b335-388988adbbfb",
   "metadata": {},
   "outputs": [
    {
     "name": "stdout",
     "output_type": "stream",
     "text": [
      "Test accuracy: 0.98\n"
     ]
    }
   ],
   "source": [
    "X_test_np = np.array(X_test[:50])\n",
    "Y_test_np = 2 * np.array(Y_test[:50]) - 1\n",
    "\n",
    "predictions = [np.sign(qnode(x, weights)) for x in X_test_np]\n",
    "acc = np.mean(predictions == Y_test_np)\n",
    "print(\"Test accuracy:\", acc)\n"
   ]
  },
  {
   "cell_type": "code",
   "execution_count": 7,
   "id": "f3d705dd-5dc5-4615-8374-b64de18a5d56",
   "metadata": {},
   "outputs": [],
   "source": [
    "#circuit1:\n",
    "#0.82 acc on 200 rows, 0.5 stepsize and 30 steps\n",
    "#0.82 acc on 500 rows, 0.5 stepsize and 15 steps\n",
    "#0.76 acc on 500 rows, 0.2 stepsize and 15 steps\n",
    "#0.82 acc on 500 rows, 0.8 stepsize and 15 steps\n",
    "\n",
    "#circuit2:\n",
    "#0.98 acc on 500 rows, 0.5 stepsize and 15 steps"
   ]
  }
 ],
 "metadata": {
  "kernelspec": {
   "display_name": "Python 3 (ipykernel)",
   "language": "python",
   "name": "python3"
  },
  "language_info": {
   "codemirror_mode": {
    "name": "ipython",
    "version": 3
   },
   "file_extension": ".py",
   "mimetype": "text/x-python",
   "name": "python",
   "nbconvert_exporter": "python",
   "pygments_lexer": "ipython3",
   "version": "3.12.3"
  }
 },
 "nbformat": 4,
 "nbformat_minor": 5
}
